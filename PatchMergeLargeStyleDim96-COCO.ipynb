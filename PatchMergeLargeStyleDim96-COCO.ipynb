{
 "cells": [
  {
   "cell_type": "code",
   "execution_count": 1,
   "id": "fee0a0ea-0c2d-4f1c-a00a-fd5f656d3bb8",
   "metadata": {},
   "outputs": [],
   "source": [
    "from ultralytics import YOLO\n",
    "import torch"
   ]
  },
  {
   "cell_type": "code",
   "execution_count": 2,
   "id": "8c6dbe47-85fa-480d-970a-f4101ae2e2c9",
   "metadata": {},
   "outputs": [
    {
     "data": {
      "text/plain": [
       "True"
      ]
     },
     "execution_count": 2,
     "metadata": {},
     "output_type": "execute_result"
    }
   ],
   "source": [
    "torch.cuda.is_available()\n",
    "# Set the default dtype to float64 (double precision)\n",
    "# torch.set_default_dtype(torch.bfloat16)"
   ]
  },
  {
   "cell_type": "code",
   "execution_count": 3,
   "id": "2ef3ed1e-e2ff-4915-a093-5f30287afdc9",
   "metadata": {},
   "outputs": [
    {
     "name": "stdout",
     "output_type": "stream",
     "text": [
      "WARNING ⚠️ no model scale passed. Assuming scale='s'.\n"
     ]
    },
    {
     "name": "stdout",
     "output_type": "stream",
     "text": [
      "True\n",
      "[384, 384, 384, 384]\n"
     ]
    },
    {
     "name": "stderr",
     "output_type": "stream",
     "text": [
      "/home/shadeform/dev-env/lib/python3.12/site-packages/torch/_dynamo/eval_frame.py:838: UserWarning: torch.utils.checkpoint: the use_reentrant parameter should be passed explicitly. In version 2.5 we will raise an exception if use_reentrant is not passed. use_reentrant=False is recommended, but if you need to preserve the current default behavior, you can pass use_reentrant=True. Refer to docs for more details on the differences between the two variants.\n",
      "  return fn(*args, **kwargs)\n"
     ]
    }
   ],
   "source": [
    "import torch\n",
    "\n",
    "# Assuming the YAML configuration is saved in \"custom_yolo.yaml\"\n",
    "model = YOLO(\"/home/shadeform/xlstm-yolo-clean/640-base384.yaml\")\n",
    "# # model = model.to(torch.bfloat16)     # Convert to bfloat16\n",
    "# model.model = torch.compile(model.model)"
   ]
  },
  {
   "cell_type": "code",
   "execution_count": null,
   "id": "1fb78039-0549-46b9-bae2-f83a4a9049fb",
   "metadata": {},
   "outputs": [
    {
     "name": "stdout",
     "output_type": "stream",
     "text": [
      "New https://pypi.org/project/ultralytics/8.3.167 available 😃 Update with 'pip install -U ultralytics'\n",
      "Ultralytics 8.3.85 🚀 Python-3.12.3 torch-2.7.1+cu126 CUDA:0 (NVIDIA H100 80GB HBM3, 81106MiB)\n",
      "                                                      CUDA:1 (NVIDIA H100 80GB HBM3, 81106MiB)\n",
      "\u001b[34m\u001b[1mengine/trainer: \u001b[0mtask=detect, mode=train, model=/home/shadeform/xlstm-yolo-clean/640-base384.yaml, data=coco.yaml, epochs=600, time=None, patience=50, batch=64, imgsz=640, save=True, save_period=-1, cache=ram, device=0,1, workers=8, project=None, name=train7, exist_ok=False, pretrained=False, optimizer=auto, verbose=True, seed=0, deterministic=False, single_cls=False, rect=False, cos_lr=True, close_mosaic=10, resume=False, amp=True, fraction=1.0, profile=False, freeze=None, multi_scale=False, overlap_mask=True, mask_ratio=4, dropout=0.0, val=True, split=val, save_json=False, save_hybrid=False, conf=None, iou=0.7, max_det=300, half=False, dnn=False, plots=True, source=None, vid_stride=1, stream_buffer=False, visualize=False, augment=True, agnostic_nms=False, classes=None, retina_masks=False, embed=None, show=False, save_frames=False, save_txt=False, save_conf=False, save_crop=False, show_labels=True, show_conf=True, show_boxes=True, line_width=None, format=torchscript, keras=False, optimize=False, int8=False, dynamic=False, simplify=True, opset=None, workspace=None, nms=False, lr0=0.001, lrf=0.01, momentum=0.937, weight_decay=0.0005, warmup_epochs=3, warmup_momentum=0.8, warmup_bias_lr=0.1, box=7.5, cls=0.5, dfl=1.5, pose=12.0, kobj=1.0, nbs=128, hsv_h=0.015, hsv_s=0.7, hsv_v=0.4, degrees=10, translate=0.1, scale=0.5, shear=0.0, perspective=0.0, flipud=0.0, fliplr=0.5, bgr=0.0, mosaic=1.0, mixup=0.0, copy_paste=0.0, copy_paste_mode=flip, auto_augment=randaugment, erasing=0.4, crop_fraction=1.0, cfg=None, tracker=botsort.yaml, save_dir=/home/shadeform/xlstm-yolo-clean/runs/detect/train7\n"
     ]
    },
    {
     "name": "stdout",
     "output_type": "stream",
     "text": [
      "WARNING ⚠️ no model scale passed. Assuming scale='s'.\n",
      "\n",
      "                   from  n    params  module                                       arguments                     \n",
      "  0                  -1  1     74112  ultralytics.nn.modules.block.VitPatchEmbedBlock[3, 384, [640, 640], [8, 8]]  \n",
      "True\n",
      "  1                  -1  1   2457600  ultralytics.nn.modules.block.VitPosEmbedBlock[384, 384, [80, 80]]          \n",
      "  2                  -1  1   7757848  ultralytics.nn.modules.block.ViLBlockPairBlock[384, 384, {'seqlens': [80, 80], 'chunk_size': 512, 'conv_kind': '2d', 'qkv_block_size': 128, 'drop_path': 1e-05}]\n",
      "  3                  -1  1    615168  ultralytics.nn.modules.block.PatchMerger     [384, 1600]                   \n",
      "  4                  -1  1   7757848  ultralytics.nn.modules.block.ViLBlockPairBlock[384, 384, {'seqlens': [40, 40], 'chunk_size': 512, 'conv_kind': '2d', 'qkv_block_size': 128, 'drop_path': 0.005555555555555556}]\n",
      "  5                  -1  1    154368  ultralytics.nn.modules.block.PatchMerger     [384, 400]                    \n",
      "  6                  -1  1   7757848  ultralytics.nn.modules.block.ViLBlockPairBlock[384, 384, {'seqlens': [20, 20], 'chunk_size': 256, 'conv_kind': '2d', 'qkv_block_size': 128, 'drop_path': 0.011111111111111112}]\n",
      "  7                  -1  1     39168  ultralytics.nn.modules.block.PatchMerger     [384, 100]                    \n",
      "  8                  -1  1   7757848  ultralytics.nn.modules.block.ViLBlockPairBlock[384, 384, {'seqlens': [10, 10], 'chunk_size': 64, 'conv_kind': '2d', 'qkv_block_size': 128, 'drop_path': 0.016666666666666666}]\n",
      "  9                   2  1         0  ultralytics.nn.modules.block.SequenceToImage [[80, 80]]                    \n",
      " 10                   4  1         0  ultralytics.nn.modules.block.SequenceToImage [[40, 40]]                    \n",
      " 11                   6  1         0  ultralytics.nn.modules.block.SequenceToImage [[20, 20]]                    \n",
      " 12                   8  1         0  ultralytics.nn.modules.block.SequenceToImage [[10, 10]]                    \n",
      " 13                  12  1         0  torch.nn.modules.upsampling.Upsample         [None, 2, 'nearest']          \n",
      " 14            [13, 11]  1         0  ultralytics.nn.modules.conv.Concat           [1]                           \n",
      " 15                  -1  1   9546904  ultralytics.nn.modules.block.ViLFusionBlock  [768, 384, {'seqlens': [20, 20], 'chunk_size': 256, 'conv_kind': '2d', 'mlp_ratio': 4.0, 'qkv_block_size': 128, 'drop_path': 0.022222222222222223}]\n",
      " 16                  -1  1         0  torch.nn.modules.upsampling.Upsample         [None, 2, 'nearest']          \n",
      " 17            [16, 10]  1         0  ultralytics.nn.modules.conv.Concat           [1]                           \n",
      " 18                  -1  1   9546904  ultralytics.nn.modules.block.ViLFusionBlock  [768, 384, {'seqlens': [40, 40], 'chunk_size': 512, 'conv_kind': '2d', 'mlp_ratio': 4.0, 'qkv_block_size': 128, 'drop_path': 0.027777777777777776}]\n",
      " 19                  -1  1         0  torch.nn.modules.upsampling.Upsample         [None, 2, 'nearest']          \n",
      " 20             [19, 9]  1         0  ultralytics.nn.modules.conv.Concat           [1]                           \n",
      " 21                  -1  1   9546904  ultralytics.nn.modules.block.ViLFusionBlock  [768, 384, {'seqlens': [80, 80], 'chunk_size': 512, 'conv_kind': '2d', 'mlp_ratio': 4.0, 'qkv_block_size': 128, 'drop_path': 0.03333333333333333}]\n",
      " 22                  21  1   1327872  ultralytics.nn.modules.conv.Conv             [384, 384, 3, 2]              \n",
      " 23            [22, 18]  1         0  ultralytics.nn.modules.conv.Concat           [1]                           \n",
      " 24                  -1  1   9546904  ultralytics.nn.modules.block.ViLFusionBlock  [768, 384, {'seqlens': [40, 40], 'chunk_size': 512, 'conv_kind': '2d', 'mlp_ratio': 4.0, 'qkv_block_size': 128, 'drop_path': 0.03888888888888889}]\n",
      " 25                  -1  1   1327872  ultralytics.nn.modules.conv.Conv             [384, 384, 3, 2]              \n",
      " 26            [25, 15]  1         0  ultralytics.nn.modules.conv.Concat           [1]                           \n",
      " 27                  -1  1   9546904  ultralytics.nn.modules.block.ViLFusionBlock  [768, 384, {'seqlens': [20, 20], 'chunk_size': 256, 'conv_kind': '2d', 'mlp_ratio': 4.0, 'qkv_block_size': 128, 'drop_path': 0.044444444444444446}]\n",
      " 28                  -1  1   1327872  ultralytics.nn.modules.conv.Conv             [384, 384, 3, 2]              \n",
      " 29            [28, 12]  1         0  ultralytics.nn.modules.conv.Concat           [1]                           \n",
      " 30                  -1  1   9546904  ultralytics.nn.modules.block.ViLFusionBlock  [768, 384, {'seqlens': [10, 10], 'chunk_size': 64, 'conv_kind': '2d', 'mlp_ratio': 4.0, 'qkv_block_size': 128, 'drop_path': 0.05}]\n",
      "[384, 384, 384, 384]\n",
      " 31    [21, 24, 27, 30]  1   6056080  ultralytics.nn.modules.head.v10Detect        [80, [384, 384, 384, 384]]    \n"
     ]
    },
    {
     "name": "stderr",
     "output_type": "stream",
     "text": [
      "/home/shadeform/dev-env/lib/python3.12/site-packages/torch/_dynamo/eval_frame.py:838: UserWarning: torch.utils.checkpoint: the use_reentrant parameter should be passed explicitly. In version 2.5 we will raise an exception if use_reentrant is not passed. use_reentrant=False is recommended, but if you need to preserve the current default behavior, you can pass use_reentrant=True. Refer to docs for more details on the differences between the two variants.\n",
      "  return fn(*args, **kwargs)\n"
     ]
    },
    {
     "name": "stdout",
     "output_type": "stream",
     "text": [
      "640-base384 summary: 582 layers, 101,692,928 parameters, 101,692,912 gradients, 363.4 GFLOPs\n",
      "\n",
      "\u001b[34m\u001b[1mDDP:\u001b[0m debug command /home/shadeform/dev-env/bin/python -m torch.distributed.run --nproc_per_node 2 --master_port 41529 /home/shadeform/.config/Ultralytics/DDP/_temp_4u1rz5sw132593041967200.py\n",
      "Ultralytics 8.3.85 🚀 Python-3.12.3 torch-2.7.1+cu126 CUDA:0 (NVIDIA H100 80GB HBM3, 81106MiB)\n",
      "                                                      CUDA:1 (NVIDIA H100 80GB HBM3, 81106MiB)\n",
      "\u001b[34m\u001b[1mTensorBoard: \u001b[0mStart with 'tensorboard --logdir /home/shadeform/xlstm-yolo-clean/runs/detect/train7', view at http://localhost:6006/\n",
      "WARNING ⚠️ no model scale passed. Assuming scale='s'.\n",
      "True\n",
      "True\n",
      "[384, 384, 384, 384]\n",
      "[384, 384, 384, 384]\n"
     ]
    }
   ],
   "source": [
    "model.train(\n",
    "    data='coco.yaml',\n",
    "    epochs=600,\n",
    "    cos_lr=True,\n",
    "    device=\"0,1\",\n",
    "    cache=\"ram\",\n",
    "    batch=64,\n",
    "    nbs=128,\n",
    "    lr0=1e-3,\n",
    "    lrf=0.01,\n",
    "    workers=8,\n",
    "    optimizer='auto',\n",
    "    imgsz=640,\n",
    "    plots=True,\n",
    "    val=True,\n",
    "    pretrained=False,\n",
    "    visualize=False,\n",
    "    deterministic=True,\n",
    "    augment=True,\n",
    "    amp=True,\n",
    "    warmup_epochs=3,\n",
    "    mosaic=1.0,     # Disable mosaic, unlike YOLO defaults\n",
    "    mixup=0.0,      # Explicitly disable mixup (default is 0.0)\n",
    "    fliplr=0.5,    # Random horizontal flip with 50% probability (default)\n",
    "    hsv_h=0.015,   # Hue adjustment (default)\n",
    "    hsv_s=0.7,     # Saturation adjustment (default)\n",
    "    hsv_v=0.4,     # Value adjustment (default)\n",
    "    degrees=10,   # No rotation (default)\n",
    "    translate=0.1, # 10% translation (default)\n",
    "    scale=0.5,     # 50% scaling (default)\n",
    "    shear=0.0,      # No shearing (default)lr0 = 1e-5                  # Initial learning rate\n",
    "    patience=50,\n",
    "    rect=False,\n",
    "    resume=False,\n",
    "    close_mosaic=10\n",
    ")"
   ]
  },
  {
   "cell_type": "code",
   "execution_count": null,
   "id": "52313420-1284-471a-af54-dca486e01aeb",
   "metadata": {},
   "outputs": [],
   "source": [
    "for name, module in model.model.named_modules():\n",
    "    print(name)"
   ]
  },
  {
   "cell_type": "code",
   "execution_count": null,
   "id": "f18603b6-1822-4c0b-a46c-7f6ea4d86c68",
   "metadata": {},
   "outputs": [],
   "source": []
  }
 ],
 "metadata": {
  "kernelspec": {
   "display_name": "dev-env",
   "language": "python",
   "name": "python3"
  },
  "language_info": {
   "codemirror_mode": {
    "name": "ipython",
    "version": 3
   },
   "file_extension": ".py",
   "mimetype": "text/x-python",
   "name": "python",
   "nbconvert_exporter": "python",
   "pygments_lexer": "ipython3",
   "version": "3.12.3"
  }
 },
 "nbformat": 4,
 "nbformat_minor": 5
}
